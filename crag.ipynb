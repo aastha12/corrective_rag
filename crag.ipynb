{
 "cells": [
  {
   "cell_type": "markdown",
   "metadata": {},
   "source": [
    "# Corrective RAG Implementation\n",
    "\n",
    "## Problem Statement:  \n",
    "Traditional RAG systems fail when:\n",
    "- Retrieved documents are irrelevant\n",
    "- Knowledge gaps exist in the local corpus\n",
    "- Answers require multi-document synthesis\n",
    "\n",
    "## GenAI Solution:  \n",
    "This notebook implements a self-correcting RAG system that:\n",
    "1. Dynamically evaluates retrieval quality\n",
    "2. Augments with web search when needed\n",
    "3. Focuses on key facts through decomposition\n",
    "4. Provides source-aware responses\n",
    "\n",
    "## 1. Importing libraries"
   ]
  },
  {
   "cell_type": "code",
   "execution_count": 199,
   "metadata": {},
   "outputs": [
    {
     "data": {
      "text/plain": [
       "True"
      ]
     },
     "execution_count": 199,
     "metadata": {},
     "output_type": "execute_result"
    }
   ],
   "source": [
    "import os\n",
    "from llama_index.core import VectorStoreIndex, SimpleDirectoryReader\n",
    "from llama_index.vector_stores.qdrant import QdrantVectorStore\n",
    "from llama_index.embeddings.fastembed import FastEmbedEmbedding\n",
    "from llama_index.core.retrievers import VectorIndexRetriever\n",
    "from llama_index.core import StorageContext\n",
    "from qdrant_client import QdrantClient\n",
    "from duckduckgo_search import DDGS\n",
    "from google import genai\n",
    "from llama_index.core.prompts import PromptTemplate\n",
    "from typing import TypedDict, Literal\n",
    "from google.genai import types\n",
    "import json\n",
    "from dotenv import load_dotenv\n",
    "load_dotenv()"
   ]
  },
  {
   "cell_type": "code",
   "execution_count": 200,
   "metadata": {},
   "outputs": [
    {
     "data": {
      "text/plain": [
       "'1.7.0'"
      ]
     },
     "execution_count": 200,
     "metadata": {},
     "output_type": "execute_result"
    }
   ],
   "source": [
    "genai.__version__"
   ]
  },
  {
   "cell_type": "code",
   "execution_count": 201,
   "metadata": {},
   "outputs": [],
   "source": [
    "GOOGLE_API_KEY = os.getenv(\"GOOGLE_API_KEY\")\n",
    "\n",
    "client = genai.Client(api_key=GOOGLE_API_KEY)"
   ]
  },
  {
   "cell_type": "code",
   "execution_count": 202,
   "metadata": {},
   "outputs": [],
   "source": [
    "DATA_DIR = 'data'\n",
    "COLLECTION_NAME = \"coffee-recipes\""
   ]
  },
  {
   "cell_type": "markdown",
   "metadata": {},
   "source": [
    "## 1. Document Processing Pipeline\n",
    "\n",
    "LlamaIndex will go to the `data` folder, load the PDFs and convert it to indexes which are basically vector embeddings.\n",
    "\n",
    "- `VectorStoreIndex`: responsible for converting all the text into vectors and it'll index those vectors\n",
    "- `SimpleDirectoryReader`: used to read from a directory"
   ]
  },
  {
   "cell_type": "code",
   "execution_count": 203,
   "metadata": {},
   "outputs": [],
   "source": [
    "# load PDF \n",
    "reader = SimpleDirectoryReader(DATA_DIR)\n",
    "documents = reader.load_data()"
   ]
  },
  {
   "cell_type": "code",
   "execution_count": 204,
   "metadata": {},
   "outputs": [
    {
     "data": {
      "text/plain": [
       "[Document(id_='2a4ce260-26e6-4d9e-9dc9-a14617ed3d5e', embedding=None, metadata={'page_label': '1', 'file_name': 'Brochure_Basic-Creative-coffee-recipes.pdf', 'file_path': '/Users/aasth/Desktop/Linkedin Post/corrective_rag/data/Brochure_Basic-Creative-coffee-recipes.pdf', 'file_type': 'application/pdf', 'file_size': 926043, 'creation_date': '2025-04-20', 'last_modified_date': '2025-04-03'}, excluded_embed_metadata_keys=['file_name', 'file_type', 'file_size', 'creation_date', 'last_modified_date', 'last_accessed_date'], excluded_llm_metadata_keys=['file_name', 'file_type', 'file_size', 'creation_date', 'last_modified_date', 'last_accessed_date'], relationships={}, metadata_template='{key}: {value}', metadata_separator='\\n', text_resource=MediaResource(embeddings=None, data=None, text='Ultimate coffee pleasure\\nCOFFEE ACADEMY\\n', path=None, url=None, mimetype=None), image_resource=None, audio_resource=None, video_resource=None, text_template='{metadata_str}\\n\\n{content}'),\n",
       " Document(id_='82f67437-f45b-4fa1-9099-8ba38b4d7a7b', embedding=None, metadata={'page_label': '2', 'file_name': 'Brochure_Basic-Creative-coffee-recipes.pdf', 'file_path': '/Users/aasth/Desktop/Linkedin Post/corrective_rag/data/Brochure_Basic-Creative-coffee-recipes.pdf', 'file_type': 'application/pdf', 'file_size': 926043, 'creation_date': '2025-04-20', 'last_modified_date': '2025-04-03'}, excluded_embed_metadata_keys=['file_name', 'file_type', 'file_size', 'creation_date', 'last_modified_date', 'last_accessed_date'], excluded_llm_metadata_keys=['file_name', 'file_type', 'file_size', 'creation_date', 'last_modified_date', 'last_accessed_date'], relationships={}, metadata_template='{key}: {value}', metadata_separator='\\n', text_resource=MediaResource(embeddings=None, data=None, text='32\\nIn this training brochure\\nThe humble cup of coffee has evolved into a whole range of \\nmodern drinks. The aromatic espresso remains ever-popu -\\nlar, but coffee’s horizons are expanding. Combinations with \\nhot milk and soft, light-as-air milk foam create the latest \\nin creative coffee beverages such as a latte macchiato, flat \\nwhite or cortado.\\nThis brochure will illustrate that achieving the perfect coffee \\nis about more than just the coffee beans, with a whole range \\nof other factors affecting what ultimately ends up in the cup.\\nJURA coffee machines prepare perfect speciality coffees at \\nthe touch of a button. The barista tips in this brochure are \\ndesigned to inspire you with all kinds of different ideas for \\npreparing and serving these beverages.\\nContents\\nChapter 1 | The perfect espresso –  \\nThe four contributing factors 5\\n1.1 The water 6\\n1.2 The coffee beans 6\\n1.3 The machine 7\\n1.4 The individual 10\\nChapter 2 | Barista tips 13\\n2.1 The perfect milk foam 14\\n2.2 Coffee perishability  14\\n2.3 The secret of a perfect crema 14\\n2.4  Maintenance of your  \\nautomatic speciality coffee machine  15\\n2.5 Serving suggestions  16\\nChapter 3 | Latte art 19\\n3.1 Creative decorations 20\\n3.2 Ornament 21\\n3.3 Leaves 22\\n3.4 Twister  23\\nChapter 4 | Coffee recipes – JURA classics 25\\n4.1 Ristretto  26\\n4.2 Espresso  27\\n4.3 Macchiato 28\\n4.4 Cortado  29\\n4.5 Espresso doppio  30\\n4.6 Café crème 31\\n4.7 Caffè Barista 32\\n4.8 Lungo Barista 33\\n4.9 Caffè Latte 34\\n4.10 Cappuccino 35\\n4.11 Flat White 36\\n4.12 Latte macchiato 37\\n4.13 Cold Brew Espresso 38\\n4.14 Cold Brew Caffè Latte 39', path=None, url=None, mimetype=None), image_resource=None, audio_resource=None, video_resource=None, text_template='{metadata_str}\\n\\n{content}'),\n",
       " Document(id_='a20c5157-afde-45ad-8ec0-3c403040d186', embedding=None, metadata={'page_label': '3', 'file_name': 'Brochure_Basic-Creative-coffee-recipes.pdf', 'file_path': '/Users/aasth/Desktop/Linkedin Post/corrective_rag/data/Brochure_Basic-Creative-coffee-recipes.pdf', 'file_type': 'application/pdf', 'file_size': 926043, 'creation_date': '2025-04-20', 'last_modified_date': '2025-04-03'}, excluded_embed_metadata_keys=['file_name', 'file_type', 'file_size', 'creation_date', 'last_modified_date', 'last_accessed_date'], excluded_llm_metadata_keys=['file_name', 'file_type', 'file_size', 'creation_date', 'last_modified_date', 'last_accessed_date'], relationships={}, metadata_template='{key}: {value}', metadata_separator='\\n', text_resource=MediaResource(embeddings=None, data=None, text='5\\nThe perfect espresso –  \\nThe four contributing factors\\nThe black espresso with no milk is coffee in its most original and pristine \\nform. But not every espresso tastes the same. There are four factors that \\ninfluence its quality.\\n1\\nIn this chapter\\nWhat factors affect the perfect espresso?\\nWhat settings are available on JURA coffee machines?\\nWhat brewing processes are integrated into  \\nJURA coffee machines?\\nChapter 1 | The perfect espresso – The four contributing factors', path=None, url=None, mimetype=None), image_resource=None, audio_resource=None, video_resource=None, text_template='{metadata_str}\\n\\n{content}'),\n",
       " Document(id_='becede01-982f-4d2f-bc9f-b8e3e9b5708a', embedding=None, metadata={'page_label': '4', 'file_name': 'Brochure_Basic-Creative-coffee-recipes.pdf', 'file_path': '/Users/aasth/Desktop/Linkedin Post/corrective_rag/data/Brochure_Basic-Creative-coffee-recipes.pdf', 'file_type': 'application/pdf', 'file_size': 926043, 'creation_date': '2025-04-20', 'last_modified_date': '2025-04-03'}, excluded_embed_metadata_keys=['file_name', 'file_type', 'file_size', 'creation_date', 'last_modified_date', 'last_accessed_date'], excluded_llm_metadata_keys=['file_name', 'file_type', 'file_size', 'creation_date', 'last_modified_date', 'last_accessed_date'], relationships={}, metadata_template='{key}: {value}', metadata_separator='\\n', text_resource=MediaResource(embeddings=None, data=None, text='76\\n1.1 The water\\n1.2 The coffee beans\\n1.3 The machine\\n1.1 1.3\\n1.2\\nThe water\\nWater makes up 98 % of an espresso, so it is crucial to the quality of the fin -\\nished product. Ideally, it should be fresh, contain minerals and oxygen and \\nhave a low to moderate water hardness. CLARIS filter cartridges are designed \\nto ensure that water quality remains consistently high – and therefore ideal \\nfor coffee preparation.\\nThe coffee beans\\nCoffee is one of the most aromatic foodstuffs, and beans can vary enormously \\nin flavour. \\nThe flavour is influenced by:\\n \\x84 The variety (arabica or robusta)\\n \\x84 Whether a blend of different beans  \\nor\\xa0pure origin coffee is used\\n \\x84 The climate and soil conditions of the  \\ncountry of origin\\n \\x84 The method of processing (dry or wet)\\n \\x84 The degree of roast\\nWith a JURA automatic speciality coffee machine, you can choose from the \\nvirtually unlimited selection of fresh coffee beans available to brew coffee \\njust as you like it.\\nThe machine\\nJURA automatic speciality coffee machines always extract the very best from \\nthe fresh beans, freshly ground and brewed.\\nConsistency of grind\\nThe fineness of the grind depends on the beans being used and personal \\ntaste. The grinder in JURA coffee machines has different settings. The more \\nfinely the beans are ground, the longer the water takes to flow through the \\nground coffee and the more aroma is extracted. This makes for a stronger \\nflavour in the cup. If the grind is too fine, the water and coffee remain in \\ncontact for too long. This may cause the coffee to come out of the spout in \\ndrips and the coffee will taste bitter. On the other hand, if the consistency of \\ngrind is too coarse, the coffee flows too quickly into the cup. This results in \\ncoffee that is less aromatic.\\nCoffee temperature\\nThe different temperature levels you can select on your JURA automatic spe -\\nciality coffee machine are all within an optimised temperature range so that \\nthe full aroma of your favourite coffee can always develop. It is your taste \\nthat determines which temperature is right for you.\\nCoffee strength\\nThe coffee strength – in other words, the amount of ground coffee used to \\nprepare a cup of coffee – can be adapted to the speciality coffee and your \\nindividual taste. JURA’s patented variable brewing units consistently process \\nthe ground coffee under perfect conditions.', path=None, url=None, mimetype=None), image_resource=None, audio_resource=None, video_resource=None, text_template='{metadata_str}\\n\\n{content}'),\n",
       " Document(id_='c9d0e4d5-b321-4f31-822a-5be758ead22d', embedding=None, metadata={'page_label': '5', 'file_name': 'Brochure_Basic-Creative-coffee-recipes.pdf', 'file_path': '/Users/aasth/Desktop/Linkedin Post/corrective_rag/data/Brochure_Basic-Creative-coffee-recipes.pdf', 'file_type': 'application/pdf', 'file_size': 926043, 'creation_date': '2025-04-20', 'last_modified_date': '2025-04-03'}, excluded_embed_metadata_keys=['file_name', 'file_type', 'file_size', 'creation_date', 'last_modified_date', 'last_accessed_date'], excluded_llm_metadata_keys=['file_name', 'file_type', 'file_size', 'creation_date', 'last_modified_date', 'last_accessed_date'], relationships={}, metadata_template='{key}: {value}', metadata_separator='\\n', text_resource=MediaResource(embeddings=None, data=None, text='8\\nAmount of water\\nThe amount of water can be adjusted depending on the speciality coffee you \\nwant to prepare or the cup you are using. \\nBrewing processes\\nJURA automatic speciality coffee machines use three different brewing pro -\\ncesses. The machine automatically selects the correct brewing process de -\\npending on the speciality coffee to be prepared at the touch of a button.\\nStandard brewing process\\n \\x84 The standard brewing process is used for classic coffee drinks  \\nwith medium cup sizes, such as café crème.\\n \\x84 The I.P .B.A.S.© (Intelligent Pre-Brew Aroma System)  \\nmakes classic speciality coffees highly aromatic.\\nPulse Extraction Process (P.E.P.®)\\n \\x84 P.E.P.® is used when preparing short speciality coffees  \\nsuch as ristretto, espresso, macchiato and cortado.\\n \\x84 P.E.P.® pulses the water through the ground coffee at the optimum \\n frequency for the amount of water. This extends the extraction  \\ntime and means the water has more time to extract aroma compounds \\nfrom the ground coffee, resulting in an even more intense and even \\nmore aromatic cup of coffee.\\n1\\n2\\nOne-Touch Lungo function\\n \\x84 This function is ideal for preparing long speciality coffees. After a par -\\nticular brewing time, the flavours of all the coffee aromas are able to \\n develop in\\xa0full. If the coffee continues to be extracted, the finished \\n product will  contain a higher proportion of unpleasant acidic and bitter \\ncomponents. \\n \\x84 The One-Touch Lungo function prevents this by mixing hot water with \\nlong coffees during the preparation phase, optimising\\xa0the extraction time.\\nCold Extraction Process\\n \\x84 The Cold Extraction Process is used for preparing genuine cold brew \\nspecialities. While many conventional cold speciality coffees consist \\nmostly of hot-brewed coffee which is then chilled, extraction in the Z10 \\ntakes place with cold water, pulsed at high pressure.\\n \\x84 The amount of water required for preparation is pumped directly into \\nthe brewing unit without being heated. This takes place at a slow fre -\\nquency in order to extract the very best aroma from the ground coffee \\nduring the Cold Extraction Process. \\n \\x84 The end result is a natural, energising and refreshing beverage in which \\nthe fruity aromas of the coffee can be fully enjoyed without being over -\\nwhelmed by a bitter taste. Anything else would just be a cold coffee. \\n3\\n4', path=None, url=None, mimetype=None), image_resource=None, audio_resource=None, video_resource=None, text_template='{metadata_str}\\n\\n{content}'),\n",
       " Document(id_='c2b061cb-abd3-421d-a628-7fc4d3c47132', embedding=None, metadata={'page_label': '6', 'file_name': 'Brochure_Basic-Creative-coffee-recipes.pdf', 'file_path': '/Users/aasth/Desktop/Linkedin Post/corrective_rag/data/Brochure_Basic-Creative-coffee-recipes.pdf', 'file_type': 'application/pdf', 'file_size': 926043, 'creation_date': '2025-04-20', 'last_modified_date': '2025-04-03'}, excluded_embed_metadata_keys=['file_name', 'file_type', 'file_size', 'creation_date', 'last_modified_date', 'last_accessed_date'], excluded_llm_metadata_keys=['file_name', 'file_type', 'file_size', 'creation_date', 'last_modified_date', 'last_accessed_date'], relationships={}, metadata_template='{key}: {value}', metadata_separator='\\n', text_resource=MediaResource(embeddings=None, data=None, text='10\\n1.4 The individual\\nSpeciality coffees with milk\\nPreparing the milk first, then the coffee\\nThis preparation method is used for cappuccino, macchiato and latte mac -\\nchiato varieties. The coffee is prepared after the hot milk and the milk foam, \\nthen flows through the milk foam at the top. The milk foam, which weighs \\nless than the coffee, floats above it. This is what creates the white foam top \\nthat is so characteristic of this type of beverage.\\nPreparing the coffee first, then the milk\\nThis preparation method is used for flat white and cortado varieties. The milk \\nfoam is prepared after the coffee and lies under the crema. This results in the \\nmilk foam at the top taking on the colour and flavour of the crema. \\nPreparing coffee and milk at the same time\\nThis preparation method is used for caffè latte. Preparing the milk and cof -\\nfee at the same time causes them to mix as they are flowing into the cup, \\ncreating the perfect result.\\nThe individual\\nThe JURA coffee machine performs the most important coffee preparation \\nsteps at the touch of a button.\\nAll the user of the machine needs to do is select the right cup or glass. A small \\naccompaniment such as chocolates, confectionery or biscuits can bring out \\nand intensify the specific aromas in the coffee. And last but not least, the \\noverall ambience in which the speciality coffee is served is an essential factor \\nfor ensuring it can be enjoyed in a relaxed atmosphere. Find out more in the \\nnext chapter, ‘Barista tips’.\\n1.4', path=None, url=None, mimetype=None), image_resource=None, audio_resource=None, video_resource=None, text_template='{metadata_str}\\n\\n{content}'),\n",
       " Document(id_='17367143-8520-4f1d-b97b-a8c867b149c1', embedding=None, metadata={'page_label': '7', 'file_name': 'Brochure_Basic-Creative-coffee-recipes.pdf', 'file_path': '/Users/aasth/Desktop/Linkedin Post/corrective_rag/data/Brochure_Basic-Creative-coffee-recipes.pdf', 'file_type': 'application/pdf', 'file_size': 926043, 'creation_date': '2025-04-20', 'last_modified_date': '2025-04-03'}, excluded_embed_metadata_keys=['file_name', 'file_type', 'file_size', 'creation_date', 'last_modified_date', 'last_accessed_date'], excluded_llm_metadata_keys=['file_name', 'file_type', 'file_size', 'creation_date', 'last_modified_date', 'last_accessed_date'], relationships={}, metadata_template='{key}: {value}', metadata_separator='\\n', text_resource=MediaResource(embeddings=None, data=None, text='13\\nBarista tips\\nThese barista tips are designed to give you inspiration when preparing and \\nserving speciality coffees, and contain lots of other fascinating pieces of in -\\nformation all about coffee.\\n2\\nIn this chapter\\nHow do you create the perfect milk foam?\\nWhat factors affect the production of a nice crema?\\nHow do you serve different kinds of speciality coffee?\\nChapter 2 | Barista tips\\n', path=None, url=None, mimetype=None), image_resource=None, audio_resource=None, video_resource=None, text_template='{metadata_str}\\n\\n{content}'),\n",
       " Document(id_='c3a1c012-521f-4db1-ba6c-b194533c7dea', embedding=None, metadata={'page_label': '8', 'file_name': 'Brochure_Basic-Creative-coffee-recipes.pdf', 'file_path': '/Users/aasth/Desktop/Linkedin Post/corrective_rag/data/Brochure_Basic-Creative-coffee-recipes.pdf', 'file_type': 'application/pdf', 'file_size': 926043, 'creation_date': '2025-04-20', 'last_modified_date': '2025-04-03'}, excluded_embed_metadata_keys=['file_name', 'file_type', 'file_size', 'creation_date', 'last_modified_date', 'last_accessed_date'], excluded_llm_metadata_keys=['file_name', 'file_type', 'file_size', 'creation_date', 'last_modified_date', 'last_accessed_date'], relationships={}, metadata_template='{key}: {value}', metadata_separator='\\n', text_resource=MediaResource(embeddings=None, data=None, text='1514\\n2.1 The perfect milk foam\\n2.2 Coffee perishability\\n2.3 The secret of a perfect crema\\nThe perfect milk foam\\nThe protein in the milk is responsible for creating the perfect milk foam – not \\nthe fat, as is often thought to be the case. Almost any type of milk can be \\nused to create foam: full-fat, semi-skimmed or skimmed, sheep’s or goat’s \\nmilk, soya or lactose-free. Whichever type of milk you choose is purely a mat -\\nter of your personal taste. To create a fine-textured milk foam using the in -\\nnovative milk systems in JURA coffee machines, the milk temperature should \\nideally be between 4 and 8°C.\\nCoffee perishability\\nCoffee contains around 800 different aroma compounds, making it one of \\nthe most aromatic of all foodstuffs. However, coffee beans lose their aroma \\nvery quickly when exposed to oxygen and light. For this reason, always store \\npacks of coffee in a dry, dark and cool place in a tightly sealed container, \\nparticularly once they have been opened. Once the beans are poured into \\nthe JURA coffee machine’s bean container, the freshness is retained by the \\naroma preservation cover. The oils and fats in coffee can also become rancid, \\nso you should always wipe down the inside of the bean container with a dry \\ncloth before refilling it.\\nThe secret of a perfect crema\\nThe crema on an espresso consists of oils, proteins and sugars, and contains a \\nmajor part of the aroma. The density and consistency of the crema is affected \\nby the blend. Robusta beans usually result in a fuller-bodied crema than ara -\\nbica beans due to the smaller proportion of coffee oils in robusta beans: 10 % \\ncompared with 16 % in arabica coffee. The oils are important flavour carriers \\nand therefore vital to the coffee’s aroma, but on the other hand they tend to \\nprevent a good crema from forming.\\nClean cups\\nIf the cups are not clean and if they have grease residues on the insides, the \\ncrema will also collapse more quickly due to the lowered surface tension.\\nAge of the coffee\\nThe older the coffee beans, the less crema will be produced because ageing \\ncoffee loses the CO 2 needed to form the crema.\\nMaintenance of your  \\nautomatic speciality coffee machine\\nFollow these maintenance tips to produce consistently good coffee and extend \\nthe service life of your machine:\\n \\x84 Empty the coffee grounds container and drip tray every day  \\nand rinse out with a little warm water.\\n \\x84 Clean the milk system daily.\\n \\x84 Run the cleaning programmes when prompted by a message  \\non the display.\\n \\x84 Perform filter changes/descaling when prompted by a message  \\non the display.\\n \\x84 Clean the surface of the machine with a JURA cleaning cloth.\\n \\x84 Polish chrome e surfaces with a JURA microfibre cloth.\\n \\x84 Wipe down the bean container with a dry cloth before refilling it.\\n2.1\\n2.2\\n2.3\\n2.4\\n2.4 Maintenance of your automatic speciality coffee machine', path=None, url=None, mimetype=None), image_resource=None, audio_resource=None, video_resource=None, text_template='{metadata_str}\\n\\n{content}'),\n",
       " Document(id_='abf2d570-519c-441c-93b8-69cae6057a14', embedding=None, metadata={'page_label': '9', 'file_name': 'Brochure_Basic-Creative-coffee-recipes.pdf', 'file_path': '/Users/aasth/Desktop/Linkedin Post/corrective_rag/data/Brochure_Basic-Creative-coffee-recipes.pdf', 'file_type': 'application/pdf', 'file_size': 926043, 'creation_date': '2025-04-20', 'last_modified_date': '2025-04-03'}, excluded_embed_metadata_keys=['file_name', 'file_type', 'file_size', 'creation_date', 'last_modified_date', 'last_accessed_date'], excluded_llm_metadata_keys=['file_name', 'file_type', 'file_size', 'creation_date', 'last_modified_date', 'last_accessed_date'], relationships={}, metadata_template='{key}: {value}', metadata_separator='\\n', text_resource=MediaResource(embeddings=None, data=None, text='1716\\n2.5 Serving suggestions\\nServing suggestions\\nThese serving suggestions will give you ideas and tips for preparing speciality \\ncoffees.\\n2.5\\nSugar\\nUse a teaspoon to add sugar and use loose sugar rather \\nthan lumps to keep the crema or milk foam intact.\\nA glass of water\\nTogether, coffee and water make an unbeatable team. \\nServe espresso beverages with a glass of water. Wa -\\nter reinforces the positive characteristics of the coffee \\nand has a refreshing effect. In traditional coffee-drink -\\ning countries, this synergy has been understood for \\ncenturies.\\n55 °C – The perfect temperature\\nIn prewarmed cups, the wonderful taste experience \\ncan fully develop. If hot coffee is served in a cold cup, \\nhowever, too much heat and therefore flavour will be \\nlost. The JURA cup warmer keeps the cups at a con -\\nstant temperature of around 55 °C – ideal for prepar -\\ning the full range of classic coffee drinks.\\nFlavoured syrups\\nSpeciality coffees with a dash of flavoured syrup are \\nparticularly popular at the moment. These flavoured \\nsyrups work very well in speciality coffees with milk \\nand are added to the glass or cup before the rest of \\nthe beverage. The milk absorbs the aroma and gives \\nthe speciality coffee the desired flavour. This means \\nthat you only need a small amount of flavoured syrup. \\nThe range of available flavours is almost limitless.\\nThe right crockery\\nUse appropriate crockery that is the perfect size for \\nyour speciality coffees, as the results should be a feast \\nfor the eyes as well as the taste buds. Choosing the \\nright saucer and teaspoon will add the perfect finish -\\ning touch to the speciality coffee you are serving up.', path=None, url=None, mimetype=None), image_resource=None, audio_resource=None, video_resource=None, text_template='{metadata_str}\\n\\n{content}'),\n",
       " Document(id_='ff73e16d-20c1-47f2-a762-88dab662b85e', embedding=None, metadata={'page_label': '10', 'file_name': 'Brochure_Basic-Creative-coffee-recipes.pdf', 'file_path': '/Users/aasth/Desktop/Linkedin Post/corrective_rag/data/Brochure_Basic-Creative-coffee-recipes.pdf', 'file_type': 'application/pdf', 'file_size': 926043, 'creation_date': '2025-04-20', 'last_modified_date': '2025-04-03'}, excluded_embed_metadata_keys=['file_name', 'file_type', 'file_size', 'creation_date', 'last_modified_date', 'last_accessed_date'], excluded_llm_metadata_keys=['file_name', 'file_type', 'file_size', 'creation_date', 'last_modified_date', 'last_accessed_date'], relationships={}, metadata_template='{key}: {value}', metadata_separator='\\n', text_resource=MediaResource(embeddings=None, data=None, text='19\\nLatte art\\nOne of the barista’s most impressive skills is the ability to create latte art. \\nThis kind of decoration offers enormous scope for creativity, the only limit \\nbeing your imagination. Exciting new speciality coffees are appearing on \\ncoffee bar menus all the time, and this creative trend has also given rise to \\never more artistic decorations on the classic cappuccino. Originally, latte art \\nconsisted of skilfully pouring milk foam over an espresso to create a design \\nwith the brown crema and the white foam. The first motifs used were the \\nheart and the rosetta.\\n3\\nIn this chapter\\nWhat is latte art?\\nWhat techniques are used to create latte art?\\nWhat motifs can be used for decorations  \\nwith chocolate sauce?\\nHow do you create latte art in a cappuccino?\\nChapter 3 | Latte art', path=None, url=None, mimetype=None), image_resource=None, audio_resource=None, video_resource=None, text_template='{metadata_str}\\n\\n{content}'),\n",
       " Document(id_='5e3105ab-5841-4c60-9627-4423d2183ba8', embedding=None, metadata={'page_label': '11', 'file_name': 'Brochure_Basic-Creative-coffee-recipes.pdf', 'file_path': '/Users/aasth/Desktop/Linkedin Post/corrective_rag/data/Brochure_Basic-Creative-coffee-recipes.pdf', 'file_type': 'application/pdf', 'file_size': 926043, 'creation_date': '2025-04-20', 'last_modified_date': '2025-04-03'}, excluded_embed_metadata_keys=['file_name', 'file_type', 'file_size', 'creation_date', 'last_modified_date', 'last_accessed_date'], excluded_llm_metadata_keys=['file_name', 'file_type', 'file_size', 'creation_date', 'last_modified_date', 'last_accessed_date'], relationships={}, metadata_template='{key}: {value}', metadata_separator='\\n', text_resource=MediaResource(embeddings=None, data=None, text='2120\\nCreative decorations\\nThe technique of creating decorative patterns with chocolate sauce began lat -\\ner. This involves using the sauce to draw simple shapes on the milk foam and \\nthen expanding them into more elaborate, creative patterns with a wooden \\nskewer. It is a skill that can be picked up quickly, making it easy to try out for \\nyourself. A cappuccino with light, velvety foam can be prepared at the touch \\nof a button with a JURA coffee machine.\\nThen all you need is:\\n \\x84 Chocolate sauce\\n \\x84 Squeezy bottle\\n \\x84 Wooden skewer\\n3.1\\n3.1 Creative decorations\\n1\\n3\\n2\\n4\\nOrnament\\n3.2 Ornament', path=None, url=None, mimetype=None), image_resource=None, audio_resource=None, video_resource=None, text_template='{metadata_str}\\n\\n{content}'),\n",
       " Document(id_='8984cca1-928d-42d4-9500-daa89294a618', embedding=None, metadata={'page_label': '12', 'file_name': 'Brochure_Basic-Creative-coffee-recipes.pdf', 'file_path': '/Users/aasth/Desktop/Linkedin Post/corrective_rag/data/Brochure_Basic-Creative-coffee-recipes.pdf', 'file_type': 'application/pdf', 'file_size': 926043, 'creation_date': '2025-04-20', 'last_modified_date': '2025-04-03'}, excluded_embed_metadata_keys=['file_name', 'file_type', 'file_size', 'creation_date', 'last_modified_date', 'last_accessed_date'], excluded_llm_metadata_keys=['file_name', 'file_type', 'file_size', 'creation_date', 'last_modified_date', 'last_accessed_date'], relationships={}, metadata_template='{key}: {value}', metadata_separator='\\n', text_resource=MediaResource(embeddings=None, data=None, text='2322\\n11\\n33\\n22\\n44\\nLeaves Twister\\n3.3 Leaves 3.4 Twister', path=None, url=None, mimetype=None), image_resource=None, audio_resource=None, video_resource=None, text_template='{metadata_str}\\n\\n{content}'),\n",
       " Document(id_='ae529175-974e-4f64-b3f0-adf79aa8ce18', embedding=None, metadata={'page_label': '13', 'file_name': 'Brochure_Basic-Creative-coffee-recipes.pdf', 'file_path': '/Users/aasth/Desktop/Linkedin Post/corrective_rag/data/Brochure_Basic-Creative-coffee-recipes.pdf', 'file_type': 'application/pdf', 'file_size': 926043, 'creation_date': '2025-04-20', 'last_modified_date': '2025-04-03'}, excluded_embed_metadata_keys=['file_name', 'file_type', 'file_size', 'creation_date', 'last_modified_date', 'last_accessed_date'], excluded_llm_metadata_keys=['file_name', 'file_type', 'file_size', 'creation_date', 'last_modified_date', 'last_accessed_date'], relationships={}, metadata_template='{key}: {value}', metadata_separator='\\n', text_resource=MediaResource(embeddings=None, data=None, text='25\\nSpeciality coffees – JURA classics\\nSpeciality coffees are enjoying huge popularity all over the globe. In Ger -\\nman-speaking Europe, café crème is still the firm favourite, closely followed \\nby espresso – but cappuccino, latte macchiato and other specialities are \\ncatching up and are especially popular with younger coffee drinkers.\\n4\\nIn this chapter\\nWhat speciality coffees does the JURA  \\ncoffee machine prepare at the touch of a button?\\nWhat is the correct way to serve classic coffee drinks?\\nWhat machine settings does JURA recommend  \\nfor classic coffee drinks?\\nChapter 4 |  Coffee recipes – JURA classics', path=None, url=None, mimetype=None), image_resource=None, audio_resource=None, video_resource=None, text_template='{metadata_str}\\n\\n{content}'),\n",
       " Document(id_='43dd53f6-e14b-4fc5-80ba-fcea181a08b4', embedding=None, metadata={'page_label': '14', 'file_name': 'Brochure_Basic-Creative-coffee-recipes.pdf', 'file_path': '/Users/aasth/Desktop/Linkedin Post/corrective_rag/data/Brochure_Basic-Creative-coffee-recipes.pdf', 'file_type': 'application/pdf', 'file_size': 926043, 'creation_date': '2025-04-20', 'last_modified_date': '2025-04-03'}, excluded_embed_metadata_keys=['file_name', 'file_type', 'file_size', 'creation_date', 'last_modified_date', 'last_accessed_date'], excluded_llm_metadata_keys=['file_name', 'file_type', 'file_size', 'creation_date', 'last_modified_date', 'last_accessed_date'], relationships={}, metadata_template='{key}: {value}', metadata_separator='\\n', text_resource=MediaResource(embeddings=None, data=None, text='2726\\n4.1 Ristretto 4.2 Espresso\\nIt couldn’t be more concentrated…espresso \\n‘ristretto’ (which means restricted in Italian, \\nor strong for a beverage). A highly concen -\\ntrated espresso, prepared with less water \\nthan normal, but the same amount of ground \\ncoffee. This is what gives the ristretto its ar -\\nomatic taste. \\n‘Espresso should be as black as the devil, as \\nhot as hell, as pure as an angel and as sweet \\nas love.’\\nCharles-Maurice de Talleyrand-Périgord (1754  – 1838) \\nEspresso is the most popular type of coffee \\nin southern European countries like Italy and \\nSpain.\\nIngredients\\n \\x84 25 ml ristretto\\nPreparation\\n \\x84 Place an espresso glass \\nunder the coffee spout.\\n \\x84 Prepare a ristretto with \\n25 ml of water.\\nIngredients\\n \\x84 45 ml espresso\\nPreparation\\n \\x84 Place an espresso glass \\nunder the coffee spout.\\n \\x84 Prepare an espresso with \\n45 ml of water.\\nMachine settings\\n \\x84 Amount of water 25 ml\\n \\x84 Coffee strength  strong\\n \\x84 Temperature high\\nMachine settings\\n \\x84 Amount of water 45 ml\\n \\x84 Coffee strength  strong\\n \\x84 Temperature high\\nRistretto Espresso\\nServing suggestion Serving suggestion', path=None, url=None, mimetype=None), image_resource=None, audio_resource=None, video_resource=None, text_template='{metadata_str}\\n\\n{content}'),\n",
       " Document(id_='90c0f6ab-600a-46f8-a742-dd04fb98bed4', embedding=None, metadata={'page_label': '15', 'file_name': 'Brochure_Basic-Creative-coffee-recipes.pdf', 'file_path': '/Users/aasth/Desktop/Linkedin Post/corrective_rag/data/Brochure_Basic-Creative-coffee-recipes.pdf', 'file_type': 'application/pdf', 'file_size': 926043, 'creation_date': '2025-04-20', 'last_modified_date': '2025-04-03'}, excluded_embed_metadata_keys=['file_name', 'file_type', 'file_size', 'creation_date', 'last_modified_date', 'last_accessed_date'], excluded_llm_metadata_keys=['file_name', 'file_type', 'file_size', 'creation_date', 'last_modified_date', 'last_accessed_date'], relationships={}, metadata_template='{key}: {value}', metadata_separator='\\n', text_resource=MediaResource(embeddings=None, data=None, text='2928\\nThe macchiato – which means ‘stained es -\\npresso’ – is an espresso which is topped with \\nmilk foam to give it an elegant finish.\\nTrue to its Spanish roots, the cortado is the \\nperfect blend of aromatic espresso with a \\nsmooth and fine milk foam. \\nIngredients\\n \\x84 40 ml espresso\\n \\x84 Milk foam\\nPreparation\\n \\x84 Place an espresso glass  \\nunder the coffee spout.\\n \\x84 Prepare a macchiato.\\nIngredients\\n \\x84 25 ml espresso\\n \\x84 Warm milk and milk foam\\nPreparation\\n \\x84 Place an espresso glass  \\nunder the coffee spout.\\n \\x84 Prepare a cortado.\\nMachine settings\\n \\x84 Amount of water 40 ml\\n \\x84 Coffee strength  strong\\n \\x84 Temperature high\\n \\x84 Milk foam 3 sec.\\nMachine settings\\n \\x84 Amount of water 25 ml\\n \\x84 Coffee strength  strong\\n \\x84 Temperature high\\n \\x84 Warm milk 2 sec.\\n \\x84 Milk foam 1 sec.\\nMacchiato Cortado\\nServing suggestion Serving suggestion\\n4.3 Macchiato 4.4 Cortado', path=None, url=None, mimetype=None), image_resource=None, audio_resource=None, video_resource=None, text_template='{metadata_str}\\n\\n{content}'),\n",
       " Document(id_='3e8c3872-13f0-412e-9f24-226a5ec66db0', embedding=None, metadata={'page_label': '16', 'file_name': 'Brochure_Basic-Creative-coffee-recipes.pdf', 'file_path': '/Users/aasth/Desktop/Linkedin Post/corrective_rag/data/Brochure_Basic-Creative-coffee-recipes.pdf', 'file_type': 'application/pdf', 'file_size': 926043, 'creation_date': '2025-04-20', 'last_modified_date': '2025-04-03'}, excluded_embed_metadata_keys=['file_name', 'file_type', 'file_size', 'creation_date', 'last_modified_date', 'last_accessed_date'], excluded_llm_metadata_keys=['file_name', 'file_type', 'file_size', 'creation_date', 'last_modified_date', 'last_accessed_date'], relationships={}, metadata_template='{key}: {value}', metadata_separator='\\n', text_resource=MediaResource(embeddings=None, data=None, text='3130\\nWith its light-coloured crema, this drink is \\nalso known in Switzerland as a ‘Schümli’ and \\nin Italy as a ‘caffè lungo’. It is made with much \\nmore water than an espresso.\\nIngredients\\n \\x84 100 ml coffee\\nPreparation\\n \\x84 Place the coffee cup  \\nunder the coffee spout.\\n \\x84 Prepare a coffee with  \\n100 ml of water.\\nTip\\n \\x84 Add coffee cream to taste.\\nMachine settings\\n \\x84 Amount of water 100 ml\\n \\x84 Coffee strength  normal\\n \\x84 Temperature normal\\nCafé crème\\n4.5 Espresso doppio 4.6 Café crème\\nAt the touch of a button, the JURA coffee \\nmachine can prepare two cups of espresso \\nin two preparation cycles – grinding twice, \\nthen brewing twice.\\nIngredients\\n \\x84 2 × 45 ml espresso\\nPreparation\\n \\x84 Place the coffee cup  \\nunder the coffee spout.\\n \\x84 Prepare an espresso doppio. \\nMachine settings\\n \\x84 Amount of water 90 ml\\n \\x84 Coffee strength  strong\\n \\x84 Temperature high\\nEspresso  \\ndoppio\\nServing suggestion Serving suggestion\\n', path=None, url=None, mimetype=None), image_resource=None, audio_resource=None, video_resource=None, text_template='{metadata_str}\\n\\n{content}'),\n",
       " Document(id_='7ea5cee4-5e6c-42ee-92e8-dd5a96bfeeb2', embedding=None, metadata={'page_label': '17', 'file_name': 'Brochure_Basic-Creative-coffee-recipes.pdf', 'file_path': '/Users/aasth/Desktop/Linkedin Post/corrective_rag/data/Brochure_Basic-Creative-coffee-recipes.pdf', 'file_type': 'application/pdf', 'file_size': 926043, 'creation_date': '2025-04-20', 'last_modified_date': '2025-04-03'}, excluded_embed_metadata_keys=['file_name', 'file_type', 'file_size', 'creation_date', 'last_modified_date', 'last_accessed_date'], excluded_llm_metadata_keys=['file_name', 'file_type', 'file_size', 'creation_date', 'last_modified_date', 'last_accessed_date'], relationships={}, metadata_template='{key}: {value}', metadata_separator='\\n', text_resource=MediaResource(embeddings=None, data=None, text='3332\\nThe lungo Barista is the longest speciality \\ncoffee without milk. During preparation the \\nJURA coffee machine adds hot water in a fully \\nautomatic process. This results in optimum \\nextraction of the desired aroma compounds \\nwhile avoiding the unpleasant bitter sub -\\nstances and acidic flavours. The result is a \\nfull-bodied, delicious and easy-to-digest long \\nspeciality at the touch of a button.\\nIngredients\\n \\x84 120 ml coffee\\n \\x84 100 ml water\\nPreparation\\n \\x84 Place the lungo cup under \\nthe coffee spout.\\n \\x84 Prepare a lungo Barista.\\nLungo Barista\\nServing suggestion\\n4.7 Caffè Barista 4.8 Lungo Barista\\nInspired by the expertise of the world’s best \\nbaristas, the JURA coffee machine blends the \\ncoffee with extra hot water during the ex -\\ntraction process using a special method. This \\nextracts only the aroma compounds and not \\nthe bitter substances from the ground cof -\\nfee. The result is a delicious, full-bodied long \\nspeciality coffee.\\nIngredients\\n \\x84 70 ml coffee\\n \\x84 50 ml water\\nPreparation\\n \\x84 Place the lungo cup under \\nthe coffee spout.\\n \\x84 Prepare a caffè Barista.  \\nCaffè Barista\\nServing suggestion\\nMachine settings\\n \\x84 Amount of water 70 ml\\n \\x84 Amount of  \\nbypass water 50 ml\\n \\x84 Coffee strength  strong\\n \\x84 Temperature normal\\nMachine settings\\n \\x84 Amount of water 120 ml\\n \\x84 Amount of  \\nbypass water 100 ml\\n \\x84 Coffee strength  strong\\n \\x84 Temperature normal', path=None, url=None, mimetype=None), image_resource=None, audio_resource=None, video_resource=None, text_template='{metadata_str}\\n\\n{content}'),\n",
       " Document(id_='64923f48-e45d-4b85-b1e4-a03bb61c2e25', embedding=None, metadata={'page_label': '18', 'file_name': 'Brochure_Basic-Creative-coffee-recipes.pdf', 'file_path': '/Users/aasth/Desktop/Linkedin Post/corrective_rag/data/Brochure_Basic-Creative-coffee-recipes.pdf', 'file_type': 'application/pdf', 'file_size': 926043, 'creation_date': '2025-04-20', 'last_modified_date': '2025-04-03'}, excluded_embed_metadata_keys=['file_name', 'file_type', 'file_size', 'creation_date', 'last_modified_date', 'last_accessed_date'], excluded_llm_metadata_keys=['file_name', 'file_type', 'file_size', 'creation_date', 'last_modified_date', 'last_accessed_date'], relationships={}, metadata_template='{key}: {value}', metadata_separator='\\n', text_resource=MediaResource(embeddings=None, data=None, text='3534\\nThe word cappuccino probably comes from  \\nthe Capuchin monks, and came to be used \\nbecause the milk foam resembles the monk’s \\nhood (cappuccio). The colour of the monks’ \\nhoods also recalls the brown hue of the bev-\\nerage.\\nIngredients\\n \\x84 50 ml espresso\\n \\x84 Milk foam \\nPreparation\\n \\x84 Place the cappuccino cup  \\nunder the coffee spout.\\n \\x84 Prepare a cappuccino.\\nTip\\n \\x84 Decorate the cappuccino  \\nwith a little chocolate sauce\\nMachine settings\\n \\x84 Amount of water 50 ml\\n \\x84 Coffee strength  strong\\n \\x84 Temperature high\\n \\x84 Milk foam 14 sec.\\nCappuccino\\nCoffee with plenty of warm milk, known in \\nSwitzerland as a ‘Schale’. This milky coffee, \\nwhich is often enjoyed at breakfast time, is \\nmade from coffee with warm milk.\\nIngredients\\n \\x84 100 ml coffee\\n \\x84 Warm milk\\nPreparation\\n \\x84 Place the cappuccino cup  \\nunder the coffee spout.\\n \\x84 Prepare a caffè latte. \\nMachine settings\\n \\x84 Amount of water 100 ml\\n \\x84 Coffee strength  normal\\n \\x84 Temperature normal\\n \\x84 Warm milk 10 sec.\\nCaffè Latte\\nServing suggestionServing suggestion\\n4.9 Caffè Latte 4.10 Cappuccino\\n', path=None, url=None, mimetype=None), image_resource=None, audio_resource=None, video_resource=None, text_template='{metadata_str}\\n\\n{content}'),\n",
       " Document(id_='339e3cd3-b3bd-42e3-a64e-09eaa1613c8f', embedding=None, metadata={'page_label': '19', 'file_name': 'Brochure_Basic-Creative-coffee-recipes.pdf', 'file_path': '/Users/aasth/Desktop/Linkedin Post/corrective_rag/data/Brochure_Basic-Creative-coffee-recipes.pdf', 'file_type': 'application/pdf', 'file_size': 926043, 'creation_date': '2025-04-20', 'last_modified_date': '2025-04-03'}, excluded_embed_metadata_keys=['file_name', 'file_type', 'file_size', 'creation_date', 'last_modified_date', 'last_accessed_date'], excluded_llm_metadata_keys=['file_name', 'file_type', 'file_size', 'creation_date', 'last_modified_date', 'last_accessed_date'], relationships={}, metadata_template='{key}: {value}', metadata_separator='\\n', text_resource=MediaResource(embeddings=None, data=None, text='3736\\nEspresso with warm milk and milk foam. \\nThe latte macchiato, which literally means \\n‘stained milk’, is made up of three layers: a \\nbottom layer of warm milk, a top layer of \\nmilk foam and an espresso in the middle.\\nIngredients\\n \\x84 55 ml espresso\\n \\x84 Warm milk and milk foam \\nPreparation\\n \\x84 Place a latte macchiato glass  \\nunder the coffee spout.\\n \\x84 Prepare a latte macchiato.\\nTip\\n \\x84 Add a little flavoured syrup or Baileys \\nto\\xa0the latte macchiato glass, to taste.\\nMachine settings\\n \\x84 Amount of water 55 ml\\n \\x84 Coffee strength  strong\\n \\x84 Temperature high\\n \\x84 Milk foam 18 sec.\\n \\x84 Warm milk 4 sec.\\nServing suggestion\\nLatte macchiato\\nThe flat white is a drink that is very much \\nin fashion among coffee lovers. Originating \\nin Australia, its secret lies in ensuring that it \\nis prepared correctly by adding the coffee \\nto the cup first, followed by warm milk. The \\nmilk foam is prepared in the final stage. This \\nlies under the crema, taking on its colour \\nand taste.\\nIngredients\\n \\x84 60 ml espresso\\n \\x84 Warm milk and milk foam\\nPreparation\\n \\x84 Place the cappuccino cup  \\nunder the coffee spout.\\n \\x84 Prepare a flat white.\\nMachine settings\\n \\x84 Amount of water 60 ml\\n \\x84 Coffee strength  normal\\n \\x84 Temperature normal\\n \\x84 Milk foam 2 sec.\\n \\x84 Warm milk 14 sec.\\nFlat White\\nServing suggestion\\n4.11 Flat White 4.12 Latte macchiato\\n', path=None, url=None, mimetype=None), image_resource=None, audio_resource=None, video_resource=None, text_template='{metadata_str}\\n\\n{content}'),\n",
       " Document(id_='ecc56737-5bfa-43d0-9e44-bc1fa0ebc47b', embedding=None, metadata={'page_label': '20', 'file_name': 'Brochure_Basic-Creative-coffee-recipes.pdf', 'file_path': '/Users/aasth/Desktop/Linkedin Post/corrective_rag/data/Brochure_Basic-Creative-coffee-recipes.pdf', 'file_type': 'application/pdf', 'file_size': 926043, 'creation_date': '2025-04-20', 'last_modified_date': '2025-04-03'}, excluded_embed_metadata_keys=['file_name', 'file_type', 'file_size', 'creation_date', 'last_modified_date', 'last_accessed_date'], excluded_llm_metadata_keys=['file_name', 'file_type', 'file_size', 'creation_date', 'last_modified_date', 'last_accessed_date'], relationships={}, metadata_template='{key}: {value}', metadata_separator='\\n', text_resource=MediaResource(embeddings=None, data=None, text='3938\\nThe coffee flows slowly into the glass. The \\nprolonged contact between the ground cof -\\nfee and water ensures optimum extraction \\nof the natural aromas. The coffee is topped \\nwith a little milk foam. The result is an ener -\\ngising, refreshing beverage.\\nIngredients\\n \\x84 90 ml coffee\\n \\x84 Warm milk and a little milk foam \\nPreparation\\n \\x84 Put 2 ice cubes in the glass. \\n \\x84 Place a small latte macchiato glass under \\nthe dual spout.\\n \\x84 Prepare a cold brew caffè latte.\\nTipp\\n \\x84 Add about 10 ml flavoured syrup as desired \\nand stir well before enjoying.\\nCold Brew \\nCaffè Latte\\nFor cold brew espresso the coffee is extracted \\nwith cold water pulsed at high pressure and \\nusually with a coarser ground coffee. The re -\\nsult in the cup is an espresso that beautifully \\naccentuates the fine coffee notes.\\nIngredients\\n \\x84 45 ml cold brew espresso\\nPreparation\\n \\x84 Put 1 ice cube in the glass. \\n \\x84 Place the espresso glass under the \\ncoffee spout.\\n \\x84 Prepare a cold brew espresso. \\nCold Brew \\n Espresso\\nServing suggestion\\nServing suggestion\\n4.13 Cold Brew Espresso 4.14 Cold Brew Caffè Latte\\nMachine settings\\n \\x84 Amount of water 45 ml\\n \\x84 Coffee strength  strong\\nMachine settings\\n \\x84 Amount of water 90 ml\\n \\x84 Coffee strength  normal\\n \\x84 Warm milk 7 sec.\\n \\x84 Milk foam 3 sec.\\n', path=None, url=None, mimetype=None), image_resource=None, audio_resource=None, video_resource=None, text_template='{metadata_str}\\n\\n{content}'),\n",
       " Document(id_='8bc58a6f-3a33-4044-8135-aa09b1c6404a', embedding=None, metadata={'page_label': '21', 'file_name': 'Brochure_Basic-Creative-coffee-recipes.pdf', 'file_path': '/Users/aasth/Desktop/Linkedin Post/corrective_rag/data/Brochure_Basic-Creative-coffee-recipes.pdf', 'file_type': 'application/pdf', 'file_size': 926043, 'creation_date': '2025-04-20', 'last_modified_date': '2025-04-03'}, excluded_embed_metadata_keys=['file_name', 'file_type', 'file_size', 'creation_date', 'last_modified_date', 'last_accessed_date'], excluded_llm_metadata_keys=['file_name', 'file_type', 'file_size', 'creation_date', 'last_modified_date', 'last_accessed_date'], relationships={}, metadata_template='{key}: {value}', metadata_separator='\\n', text_resource=MediaResource(embeddings=None, data=None, text='Art. 35720  – 202101   spice advertising\\n© 2021 JURA Elektroapparate AG. All rights reserved.  \\nReprinting (in whole or in part) is only permitted with the written approval of JURA.\\nJURA Elektroapparate AG\\nKaffeeweltstrasse 10 \\n4626 Niederbuchsiten\\nSwitzerland\\nacademy.jura.com\\nJURA – If you love coffee', path=None, url=None, mimetype=None), image_resource=None, audio_resource=None, video_resource=None, text_template='{metadata_str}\\n\\n{content}')]"
      ]
     },
     "execution_count": 204,
     "metadata": {},
     "output_type": "execute_result"
    }
   ],
   "source": [
    "#contains metadata of the PDF\n",
    "documents"
   ]
  },
  {
   "cell_type": "markdown",
   "metadata": {},
   "source": [
    "## 2. Vector Knowledge Base Setup"
   ]
  },
  {
   "cell_type": "code",
   "execution_count": 205,
   "metadata": {},
   "outputs": [],
   "source": [
    "#Loads a embedding model to convert text into vector format for similarity search\n",
    "embed_model = FastEmbedEmbedding(model_name=\"BAAI/bge-base-en-v1.5\")\n",
    "\n",
    "#Initializes an in-memory Qdrant database to store and search vector embedding\n",
    "qdrant_client = QdrantClient(location=\":memory:\")\n",
    "\n",
    "#Connects the Qdrant client to LlamaIndex as a vector store using the specified collection name\n",
    "vector_store = QdrantVectorStore(client=qdrant_client, collection_name=COLLECTION_NAME)\n",
    "\n",
    "#Creates a storage context that LlamaIndex will use to manage and store indexed data.\n",
    "#Tells llama-index how/where to store and retrieve data.\n",
    "storage_context = StorageContext.from_defaults(vector_store=vector_store)"
   ]
  },
  {
   "cell_type": "code",
   "execution_count": 206,
   "metadata": {},
   "outputs": [],
   "source": [
    "# Creates a vector index from the loaded documents by embedding them and storing them in the Qdrant vector store\n",
    "index = VectorStoreIndex.from_documents(documents, storage_context=storage_context, embed_model=embed_model)\n",
    "\n",
    "#Sets up a retriever to fetch the top 4 most similar documents from the index for any given query\n",
    "retriever = VectorIndexRetriever(index=index, similarity_top_k=4)"
   ]
  },
  {
   "cell_type": "markdown",
   "metadata": {},
   "source": [
    "## 3. Intelligent Query Processing\n",
    "\n",
    "Enhances queries for better retrieval "
   ]
  },
  {
   "cell_type": "code",
   "execution_count": 207,
   "metadata": {},
   "outputs": [],
   "source": [
    "DEFAULT_TRANSFORM_QUERY_TEMPLATE = PromptTemplate(\n",
    "    template=\"\"\"Your task is to refine a query to ensure it is highly effective for retrieving relevant search results.\n",
    "\n",
    "    Analyze the given input to grasp the core semantic intent or meaning.\n",
    "\n",
    "    Original Query:\n",
    "    -------\n",
    "    {query_str}\n",
    "    -------\n",
    "    Your goal is to rephrase or enhance this query to improve its search performance. Ensure the revised query is concise and directly aligned with the intended search objective.\n",
    "\n",
    "    Respond with the optimized query only:\"\"\"\n",
    ")\n"
   ]
  },
  {
   "cell_type": "code",
   "execution_count": 208,
   "metadata": {},
   "outputs": [],
   "source": [
    "def transform_query(original_query):\n",
    "    prompt = DEFAULT_TRANSFORM_QUERY_TEMPLATE.format(query_str=original_query)\n",
    "    response = client.models.generate_content(\n",
    "        model= \"gemini-1.5-flash-001\",\n",
    "        contents=prompt\n",
    "    )\n",
    "    return response.text.strip()\n"
   ]
  },
  {
   "cell_type": "markdown",
   "metadata": {},
   "source": [
    "## 4. Key Fact Extraction\n",
    "\n",
    "Extracts key facts from the context and that will be used later to answer the question"
   ]
  },
  {
   "cell_type": "code",
   "execution_count": 209,
   "metadata": {},
   "outputs": [],
   "source": [
    "KEY_FACTS_PROMPT = \"\"\"\n",
    "Extract the most relevant facts from the context that directly answer the query.\n",
    "Focus on concrete information and be faithful to the source.\n",
    "\n",
    "Query: {query}\n",
    "\n",
    "Context:\n",
    "{context}\n",
    "\n",
    "Return only the most relevant facts as bullet points:\n",
    "\"\"\""
   ]
  },
  {
   "cell_type": "code",
   "execution_count": 210,
   "metadata": {},
   "outputs": [],
   "source": [
    "def extract_key_facts(context, query):\n",
    "    prompt = KEY_FACTS_PROMPT.format(\n",
    "        context=context,\n",
    "        query=query\n",
    "    )\n",
    "    response = client.models.generate_content(\n",
    "        model=\"gemini-1.5-flash-001\",\n",
    "        config=types.GenerateContentConfig(\n",
    "            temperature=0.0\n",
    "        ),        \n",
    "        contents=prompt\n",
    "    )\n",
    "    return response.text.strip()"
   ]
  },
  {
   "cell_type": "markdown",
   "metadata": {},
   "source": [
    "## 4. Self-Correcting Retrieval Flow\n",
    "\n",
    "It evaluated whether a document is relevant to the query using a yes/no mechanism. This will later be used to:\n",
    "- Retrieves top 4 documents\n",
    "- Scores each for query relevance\n",
    "- Confidence = (relevant docs) / (total retrieved)\n",
    "- Fallback to web if confidence < 25%"
   ]
  },
  {
   "cell_type": "code",
   "execution_count": 211,
   "metadata": {},
   "outputs": [],
   "source": [
    "DEFAULT_RELEVANCY_PROMPT_TEMPLATE = \"\"\"\n",
    "Analyze whether this document excerpt contains ANY information that could help answer the query. \n",
    "Respond ONLY with \"yes\" or \"no\".\n",
    "\n",
    "Document Excerpt:\n",
    "{context_str}\n",
    "\n",
    "Query:\n",
    "{query_str}\n",
    "\"\"\"\n"
   ]
  },
  {
   "cell_type": "code",
   "execution_count": 212,
   "metadata": {},
   "outputs": [],
   "source": [
    "def evaluate_retrieval_quality(nodes, query):\n",
    "    relevant_nodes = []\n",
    "    for node in nodes:\n",
    "        prompt = DEFAULT_RELEVANCY_PROMPT_TEMPLATE.format(\n",
    "            context_str=node.text[:2000],  # Increased length limit\n",
    "            query_str=query  # Use original query, not transformed\n",
    "        )\n",
    "        response = client.models.generate_content(\n",
    "            model=\"gemini-1.5-flash-001\",\n",
    "            contents=prompt\n",
    "        )\n",
    "        if response.text.strip().lower() == \"yes\":\n",
    "            relevant_nodes.append(node)\n",
    "    return relevant_nodes"
   ]
  },
  {
   "cell_type": "markdown",
   "metadata": {},
   "source": [
    "## 5. Knowledge Augmentation\n",
    "\n",
    "In case vector database knowledge is insufficient, we will use web search as a fallback option to enhance the final answer"
   ]
  },
  {
   "cell_type": "code",
   "execution_count": 213,
   "metadata": {},
   "outputs": [],
   "source": [
    "def web_search(query):\n",
    "    with DDGS() as ddgs:\n",
    "        results = ddgs.text(query)\n",
    "        return [r['body'] for r in results if 'body' in r][:3]"
   ]
  },
  {
   "cell_type": "markdown",
   "metadata": {},
   "source": [
    "## 6. Response Generation\n",
    "\n",
    "- Define a response schema\n",
    "- Use System and CoT prompting and ask mode to return a JSON format\n",
    "- Retrieve relevant documents\n",
    "- Evaluate relevance using original query\n",
    "- If document is relevant, create key facts from documents and generate answer from the key facts\n",
    "- If document is irrelevant(i.e. low confidence score), use web search \n",
    "- Return answer in JSON format"
   ]
  },
  {
   "cell_type": "code",
   "execution_count": 214,
   "metadata": {},
   "outputs": [],
   "source": [
    "class Answer(TypedDict):\n",
    "    answer: str\n",
    "    reasoning: str\n",
    "    source_name: Literal[\"vector database\", \"web search\"]\n",
    "    citations: str"
   ]
  },
  {
   "cell_type": "code",
   "execution_count": 215,
   "metadata": {},
   "outputs": [],
   "source": [
    "#system and CoT prompting with JSON format\n",
    "STRUCTURED_ANSWER_PROMPT = \"\"\"\n",
    "You are a helpful assistant answering the user's question using the documents below. Respond in JSON format:\n",
    "\n",
    "Documents:\n",
    "{context}\n",
    "\n",
    "User Question:\n",
    "{query}\n",
    "\n",
    "Example Response:\n",
    "{{\n",
    "  \"answer\": \"your answer here\",\n",
    "  \"reasoning\": \"step-by-step thought process here\",\n",
    "  \"source_name\": \"vector database or web search\",\n",
    "  \"citations\": \"Quoted content from web search or key facts\"\n",
    "}}\n",
    "\n",
    "Let's think step by step.\n",
    "\"\"\"\n"
   ]
  },
  {
   "cell_type": "code",
   "execution_count": 216,
   "metadata": {},
   "outputs": [],
   "source": [
    "def answer_query(query):\n",
    "    # Step 1: Retrieve and evaluate nodes\n",
    "    transformed_query = transform_query(query)\n",
    "    nodes = retriever.retrieve(transformed_query)\n",
    "    \n",
    "    # Print nodes for debugging\n",
    "    # for i, node in enumerate(nodes):\n",
    "    #     print(f\"\\n--- Node {i+1} ---\\n{node.text[:500]}...\")\n",
    "    \n",
    "    # Evaluate relevance using original query\n",
    "    relevant_nodes = evaluate_retrieval_quality(nodes, query)\n",
    "    confidence = len(relevant_nodes) / len(nodes) if nodes else 0.0\n",
    "    print(f\"Confidence score: {confidence}\")\n",
    "    \n",
    "    # Step 2: Process relevant nodes\n",
    "    if relevant_nodes:\n",
    "        # Combine relevant nodes with metadata\n",
    "        combined_context = \"\\n\\n\".join(\n",
    "            [f\"[Document {i+1}]\\n{n.text}\" \n",
    "             for i, n in enumerate(relevant_nodes)]\n",
    "        )\n",
    "        \n",
    "        # Extract key facts first\n",
    "        key_facts = extract_key_facts(combined_context, query)\n",
    "        print(f\"\\nKey Facts:\\n{key_facts}\")\n",
    "        \n",
    "        # Generate answer from key facts\n",
    "        final_prompt = STRUCTURED_ANSWER_PROMPT.format(\n",
    "            context=f\"[Key Facts]\\n{key_facts}\",\n",
    "            query=query\n",
    "        )\n",
    "        response = client.models.generate_content(\n",
    "            model=\"gemini-1.5-flash-001\",\n",
    "            config=types.GenerateContentConfig(\n",
    "                response_mime_type='application/json',\n",
    "                response_schema=Answer,\n",
    "                temperature=0.0\n",
    "            ),\n",
    "            contents=final_prompt\n",
    "        )\n",
    "        return json.loads(response.text), key_facts\n",
    "    \n",
    "    # Step 3: Web fallback only if no relevant nodes\n",
    "    web_results = web_search(query)\n",
    "    web_context = \"\\n\".join([f\"[Web {i+1}]\\n{r}\" for i, r in enumerate(web_results)])\n",
    "    \n",
    "    final_prompt = STRUCTURED_ANSWER_PROMPT.format(\n",
    "        context=f\"[Web Results]\\n{web_context}\",\n",
    "        query=query\n",
    "    )\n",
    "    response = client.models.generate_content(\n",
    "        model=\"gemini-1.5-flash-001\",\n",
    "        config=types.GenerateContentConfig(\n",
    "            response_mime_type='application/json',\n",
    "            response_schema=Answer,\n",
    "            temperature=0.0\n",
    "        ),\n",
    "        contents=final_prompt\n",
    "    )\n",
    "    return json.loads(response.text), web_context"
   ]
  },
  {
   "cell_type": "code",
   "execution_count": 223,
   "metadata": {},
   "outputs": [
    {
     "name": "stdout",
     "output_type": "stream",
     "text": [
      "Confidence score: 0.75\n",
      "\n",
      "Key Facts:\n",
      "- Flat white is prepared by adding coffee to the cup first, followed by warm milk.\n",
      "- The milk foam is prepared in the final stage and lies under the crema, taking on its color and taste. \n",
      "- Cappuccino is prepared by adding hot milk and milk foam first, then the coffee flows through the milk foam at the top.\n",
      "\n",
      "Final Response:\n",
      "{\n",
      "    \"answer\": \"The main difference between a flat white and a cappuccino is the order in which the ingredients are added. In a flat white, the coffee is added first, followed by warm milk and then a thin layer of milk foam. In a cappuccino, the hot milk and milk foam are added first, and then the coffee is poured on top, creating a layer of coffee on top of the milk foam.\",\n",
      "    \"reasoning\": \"The key facts provide information about the order of ingredients in both drinks. The flat white has coffee added first, followed by warm milk and then milk foam. The cappuccino has hot milk and milk foam added first, followed by coffee on top.\",\n",
      "    \"source_name\": \"vector database\",\n",
      "    \"citations\": \"Flat white is prepared by adding coffee to the cup first, followed by warm milk. The milk foam is prepared in the final stage and lies under the crema, taking on its color and taste. Cappuccino is prepared by adding hot milk and milk foam first, then the coffee flows through the milk foam at the top.\"\n",
      "}\n"
     ]
    }
   ],
   "source": [
    "question = \"How is Flat white different from cappuccino?\"\n",
    "final_response,relevant_text = answer_query(question)\n",
    "print(\"\\nFinal Response:\")\n",
    "print(json.dumps(final_response, indent=4))"
   ]
  },
  {
   "cell_type": "markdown",
   "metadata": {},
   "source": [
    "## 7. Model Evaluation using LLM-as-A-Judge architecture\n",
    "\n",
    "Defined an evaluation prompt which selects a score from 1-5 based on:\n",
    "- Groundedness (1-5)\n",
    "- Completeness (1-5)\n",
    "- Fluency (1-5)"
   ]
  },
  {
   "cell_type": "code",
   "execution_count": 218,
   "metadata": {},
   "outputs": [],
   "source": [
    "import enum\n",
    "\n",
    "# Define the evaluation prompt for RAG\n",
    "# role prompting\n",
    "RAG_EVAL_PROMPT = \"\"\"\\\n",
    "# Instruction\n",
    "You are an expert evaluator for Retrieval-Augmented Generation (RAG) systems. Your task is to evaluate the quality of the AI-generated response based on the given user prompt and the retrieved context.\n",
    "\n",
    "You will assess how well the response:\n",
    "- Follows the instructions in the user prompt\n",
    "- Is grounded in the context\n",
    "- Is complete and provides a helpful answer\n",
    "- Is fluent and easy to read\n",
    "\n",
    "Please give step-by-step reasoning and assign a score using the Rating Rubric.\n",
    "\n",
    "# Evaluation\n",
    "## Metric Definition\n",
    "You will assess question answering quality in a RAG setting, where the model is expected to answer the user's query using only the provided context. Responses should be relevant, well-structured, and avoid hallucinations.\n",
    "\n",
    "## Criteria\n",
    "- Instruction Following: Does the response fulfill the prompt's requirements (e.g., format, answer type, word limits)?\n",
    "- Groundedness: Does the response rely solely on the context provided? No outside or hallucinated info?\n",
    "- Completeness: Does it fully and correctly answer the user query using the context?\n",
    "- Fluency: Is the response well-written, clear, and grammatically correct?\n",
    "\n",
    "## Rating Rubric\n",
    "5: (Very good) Follows instructions, grounded, complete, and fluent.\n",
    "4: (Good) Mostly grounded and complete, minor issues in fluency or relevance.\n",
    "3: (Fair) Partially complete, some hallucination or vague phrasing, moderate fluency issues.\n",
    "2: (Bad) Lacks completeness or relevance; possible hallucinations or missed instructions.\n",
    "1: (Very bad) Hallucinated, off-topic, ignores prompt/context.\n",
    "\n",
    "## Evaluation Steps\n",
    "STEP 1: Review the prompt, context, and response.\n",
    "STEP 2: Assess the 4 criteria.\n",
    "STEP 3: Justify your score.\n",
    "STEP 4: Select a score from 5, 4, 3, 2, or 1.\n",
    "\n",
    "# User Inputs and AI-generated Response\n",
    "## User Prompt\n",
    "{prompt}\n",
    "\n",
    "## Retrieved Context\n",
    "{context}\n",
    "\n",
    "## AI-generated Response\n",
    "{response}\n",
    "\"\"\"\n",
    "\n",
    "\n",
    "def eval_rag_response(prompt, context, ai_response):\n",
    "    \"\"\"Evaluate a RAG-generated response using Gemini chat.\"\"\"\n",
    "    chat = client.chats.create(model='gemini-2.0-flash')\n",
    "\n",
    "    # Construct the full evaluation prompt\n",
    "    full_prompt = RAG_EVAL_PROMPT.format(prompt=prompt, context=context, response=ai_response)\n",
    "\n",
    "    # Get explanation and verbose score\n",
    "    response = chat.send_message(message=full_prompt)\n",
    "    verbose_eval = response.text\n",
    "\n",
    "\n",
    "    return verbose_eval\n"
   ]
  },
  {
   "cell_type": "code",
   "execution_count": 219,
   "metadata": {},
   "outputs": [
    {
     "name": "stdout",
     "output_type": "stream",
     "text": [
      "STEP 1: Review the prompt, context, and response.\n",
      "The prompt asks for the difference between a flat white and a cappuccino. The context provides information about how each drink is prepared, specifically the order of ingredients. The response summarizes these differences.\n",
      "\n",
      "STEP 2: Assess the 4 criteria.\n",
      "- Instruction Following: The response directly answers the question.\n",
      "- Groundedness: The response is based entirely on the provided context.\n",
      "- Completeness: The response provides a complete answer based on the information given in the context.\n",
      "- Fluency: The response is fluent and easy to read.\n",
      "\n",
      "STEP 3: Justify your score.\n",
      "The response is well-written, accurately answers the prompt based on the provided context, and follows instructions. Therefore, it deserves a high score.\n",
      "\n",
      "STEP 4: Select a score from 5, 4, 3, 2, or 1.\n",
      "5\n",
      "\n"
     ]
    }
   ],
   "source": [
    "text_eval = eval_rag_response(\n",
    "    prompt=question,\n",
    "    context=relevant_text,\n",
    "    ai_response=final_response['answer']\n",
    ")\n",
    "\n",
    "print(text_eval)   \n"
   ]
  },
  {
   "cell_type": "markdown",
   "metadata": {},
   "source": [
    "## 8. More examples of queries passed to CRAG"
   ]
  },
  {
   "cell_type": "code",
   "execution_count": 222,
   "metadata": {},
   "outputs": [
    {
     "name": "stdout",
     "output_type": "stream",
     "text": [
      "Confidence score: 0.75\n",
      "\n",
      "Key Facts:\n",
      "- JURA automatic speciality coffee machines use three different brewing processes: Standard brewing process, Pulse Extraction Process (P.E.P.®), and One-Touch Lungo function.\n",
      "- The Standard brewing process is used for classic coffee drinks with medium cup sizes, such as café crème.\n",
      "- The I.P .B.A.S.© (Intelligent Pre-Brew Aroma System) makes classic speciality coffees highly aromatic.\n",
      "- P.E.P.® is used when preparing short speciality coffees such as ristretto, espresso, macchiato and cortado.\n",
      "- P.E.P.® pulses the water through the ground coffee at the optimum frequency for the amount of water.\n",
      "- The One-Touch Lungo function is ideal for preparing long speciality coffees.\n",
      "- The One-Touch Lungo function prevents over-extraction by mixing hot water with long coffees during the preparation phase.\n",
      "- The Cold Extraction Process is used for preparing genuine cold brew specialities.\n",
      "- The Cold Extraction Process uses cold water, pulsed at high pressure, to extract the very best aroma from the ground coffee.\n",
      "\n",
      "Final Response:\n",
      "{\n",
      "    \"answer\": \"JURA automatic speciality coffee machines use three different brewing processes: Standard brewing process, Pulse Extraction Process (P.E.P.\\u00ae), and One-Touch Lungo function. They also use a Cold Extraction Process for cold brew specialities.\",\n",
      "    \"reasoning\": \"The document states that JURA machines use three brewing processes: Standard, P.E.P.\\u00ae, and One-Touch Lungo. It also mentions a Cold Extraction Process for cold brew.\",\n",
      "    \"source_name\": \"vector database\",\n",
      "    \"citations\": \"JURA automatic speciality coffee machines use three different brewing processes: Standard brewing process, Pulse Extraction Process (P.E.P.\\u00ae), and One-Touch Lungo function.\\n- The Cold Extraction Process is used for preparing genuine cold brew specialities.\"\n",
      "}\n"
     ]
    }
   ],
   "source": [
    "final_response,relevant_text = answer_query(\"What are the brewing processes used by JURA\")\n",
    "print(\"\\nFinal Response:\")\n",
    "print(json.dumps(final_response, indent=4))"
   ]
  },
  {
   "cell_type": "code",
   "execution_count": 225,
   "metadata": {},
   "outputs": [
    {
     "name": "stdout",
     "output_type": "stream",
     "text": [
      "Confidence score: 0.0\n",
      "\n",
      "Final Response:\n",
      "{\n",
      "    \"answer\": \"Donald J. Trump is the current president of the United States in 2025.\",\n",
      "    \"reasoning\": \"The provided documents state that Donald Trump was sworn in as the 47th President of the United States on January 20, 2025.  Since he took office in 2025, he is the current president.\",\n",
      "    \"source_name\": \"web search\",\n",
      "    \"citations\": \"Donald Trump became the 47th president of the United States on January 20, 2025 (Credit: The Trump White House, Public Domain/ Wikimedia Commons) On January 20, 2025, Donald Trump was sworn in as the 47th President of the United States. He is only the second President to serve non-consecutive terms since Grover Cleveland in 1893. At 78 years ...\"\n",
      "}\n"
     ]
    }
   ],
   "source": [
    "final_response,relevant_text = answer_query(\"Who is the current president of USA in 2025\")\n",
    "print(\"\\nFinal Response:\")\n",
    "print(json.dumps(final_response, indent=4))"
   ]
  },
  {
   "cell_type": "code",
   "execution_count": null,
   "metadata": {},
   "outputs": [],
   "source": []
  }
 ],
 "metadata": {
  "kernelspec": {
   "display_name": "corrective_rag-Orgx40am",
   "language": "python",
   "name": "python3"
  },
  "language_info": {
   "codemirror_mode": {
    "name": "ipython",
    "version": 3
   },
   "file_extension": ".py",
   "mimetype": "text/x-python",
   "name": "python",
   "nbconvert_exporter": "python",
   "pygments_lexer": "ipython3",
   "version": "3.12.1"
  }
 },
 "nbformat": 4,
 "nbformat_minor": 2
}
